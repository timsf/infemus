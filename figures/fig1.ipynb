{
 "cells": [
  {
   "cell_type": "code",
   "execution_count": 1,
   "metadata": {},
   "outputs": [],
   "source": [
    "# dependencies\n",
    "\n",
    "import numpy as np\n",
    "import matplotlib.pyplot as plt\n",
    "import seaborn as sns\n",
    "from scipy.interpolate import PchipInterpolator\n",
    "from scipy.special import logsumexp\n",
    "from scipy.stats import norm\n",
    "\n",
    "from infemus import emus\n",
    "\n",
    "sns.set_theme()"
   ]
  },
  {
   "cell_type": "code",
   "execution_count": 32,
   "metadata": {},
   "outputs": [],
   "source": [
    "# helper functions\n",
    "\n",
    "def run_experiment(n_variates, bounds, l, n, y, q, t, rng):\n",
    "    lams = np.linspace(*bounds, l + 1)\n",
    "    lame = np.linspace(*bounds, l ** 2 + 1)\n",
    "    log_us = np.log(norm.pdf(y, loc=lams, scale=np.sqrt(1/q + 1/t)) + norm.pdf(-y, loc=lams, scale=np.sqrt(1/q + 1/t)))\n",
    "    log_ue = np.log(norm.pdf(y, loc=lame, scale=np.sqrt(1/q + 1/t)) + norm.pdf(-y, loc=lame, scale=np.sqrt(1/q + 1/t)))\n",
    "    us = np.exp(log_us - logsumexp(log_us))\n",
    "    ue = np.exp(log_ue - logsumexp(log_ue))\n",
    "    return lame, ue, np.array([sample_emus_estimate(y, lams, lame, n, q, t, rng) for _ in range(n_variates)]), np.array([sample_gibbs_estimate(y, lams, lame, n, q, t, rng) for _ in range(n_variates)])\n",
    "\n",
    "def sample_emus_estimate(y, lams, lame, n, q, t, rng):\n",
    "    prior_prec = t\n",
    "    post_prec = q + prior_prec\n",
    "    marg_var = 1/q + 1/t\n",
    "    p = [np.exp(norm.logpdf(y, loc=ls_, scale=np.sqrt(marg_var)) - np.logaddexp(norm.logpdf(y, loc=ls_, scale=np.sqrt(marg_var)), norm.logpdf(-y, loc=ls_, scale=np.sqrt(marg_var)))) for ls_ in lams]\n",
    "    the_samples = [norm.rvs(loc=(rng.choice([-1, 1], p=[1-p_, p_], size=n)*q*y + ls_*prior_prec)/post_prec, scale=np.sqrt(1/post_prec), random_state=rng) for p_, ls_ in zip(p, lams)]\n",
    "    log_psis = [norm.logpdf(the_[:, np.newaxis], loc=lams[np.newaxis], scale=np.sqrt(1/prior_prec)) for the_ in the_samples]\n",
    "    log_psie = [norm.logpdf(the_[:, np.newaxis], loc=lame[np.newaxis], scale=np.sqrt(1/prior_prec)) for the_ in the_samples]\n",
    "    us_est, _ = emus.eval_vardi_estimator(log_psis)\n",
    "    ue_est = emus.extrapolate(log_psie, log_psis, us_est)\n",
    "    return ue_est / np.sum(ue_est)\n",
    "\n",
    "def sample_gibbs_estimate(y, ls, le, n, q, t, rng):\n",
    "    prior_prec = t\n",
    "    post_prec = q + prior_prec\n",
    "    marg_var = 1/q + 1/t\n",
    "    lat = [rng.choice(len(ls))]\n",
    "    for _ in range(n * len(ls)):\n",
    "        p = np.exp(norm.logpdf(y, loc=ls[lat[-1]], scale=np.sqrt(marg_var)) - np.logaddexp(norm.logpdf(y, loc=ls[lat[-1]], scale=np.sqrt(marg_var)), norm.logpdf(-y, loc=ls[lat[-1]], scale=np.sqrt(marg_var))))\n",
    "        the = norm.rvs(loc=(rng.choice([-1, 1], p=[1-p, p])*q*y + ls[lat[-1]]*prior_prec)/post_prec, scale=np.sqrt(1/post_prec), random_state=rng)\n",
    "        log_psi = norm.logpdf(the, loc=ls, scale=np.sqrt(1/prior_prec))\n",
    "        lat.append(rng.choice(np.arange(len(ls)), p=np.exp(log_psi - logsumexp(log_psi))))\n",
    "    us_est = np.bincount(lat, minlength=len(ls)) / len(lat)\n",
    "    if np.max(us_est) == 1:\n",
    "        ue_est = np.where(le == le[np.argmin(np.abs(le - ls[lat[0]]))], 1, 0)\n",
    "    else:\n",
    "        ue_est = PchipInterpolator(ls, np.bincount(lat, minlength=len(ls)))(le)\n",
    "    return ue_est / np.sum(ue_est)"
   ]
  },
  {
   "cell_type": "code",
   "execution_count": 33,
   "metadata": {},
   "outputs": [],
   "source": [
    "# config\n",
    "\n",
    "seed = 0\n",
    "n_variates = 128\n",
    "bounds = (-2, 2)\n",
    "l = 16\n",
    "n = 16\n",
    "y = 1\n",
    "q = 2 ** 6\n",
    "t = 2 ** np.arange(15)"
   ]
  },
  {
   "cell_type": "code",
   "execution_count": 34,
   "metadata": {},
   "outputs": [],
   "source": [
    "# run experiment\n",
    "\n",
    "rng = np.random.default_rng(seed)\n",
    "output = [run_experiment(n_variates, bounds, l, n, y, q, t_, rng) for t_ in t]\n",
    "\n",
    "emus_err = [np.sum(np.mean(np.abs(u_emus_ - u_), 0)) for (_, u_, u_emus_, _) in output]\n",
    "gibbs_err = [np.sum(np.mean(np.abs(u_gibbs_ - u_), 0)) for (_, u_, _, u_gibbs_) in output]"
   ]
  },
  {
   "cell_type": "code",
   "execution_count": null,
   "metadata": {},
   "outputs": [],
   "source": [
    "# draw figure\n",
    "\n",
    "plt.figure(figsize=(4, 3))\n",
    "plt.plot(t, emus_err)\n",
    "plt.plot(t, gibbs_err)\n",
    "\n",
    "plt.xscale('log')\n",
    "plt.xlabel(r'$\\tau$')\n",
    "plt.ylabel('error')"
   ]
  }
 ],
 "metadata": {
  "kernelspec": {
   "display_name": "infemus-paper-o_hx9urg-py3.11",
   "language": "python",
   "name": "python3"
  },
  "language_info": {
   "codemirror_mode": {
    "name": "ipython",
    "version": 3
   },
   "file_extension": ".py",
   "mimetype": "text/x-python",
   "name": "python",
   "nbconvert_exporter": "python",
   "pygments_lexer": "ipython3",
   "version": "3.11.8"
  },
  "metadata": {
   "interpreter": {
    "hash": "19556df859674949f4dcbcf02070ab12239df65936e2db76eadf70860a05a48e"
   }
  },
  "orig_nbformat": 2
 },
 "nbformat": 4,
 "nbformat_minor": 2
}
