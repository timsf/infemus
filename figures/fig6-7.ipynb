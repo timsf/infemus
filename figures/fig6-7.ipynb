{
 "cells": [
  {
   "cell_type": "code",
   "execution_count": 2,
   "metadata": {},
   "outputs": [],
   "source": [
    "# dependencies\n",
    "\n",
    "from itertools import product\n",
    "\n",
    "import numpy as np\n",
    "import matplotlib.pyplot as plt\n",
    "import seaborn as sns\n",
    "from scipy.spatial.distance import cdist\n",
    "from ucimlrepo import fetch_ucirepo \n",
    "\n",
    "from infemus import infemus\n",
    "from infemus.models import logitgp\n",
    "from infemus.tools.metropolis_mv import eval_norm_prec\n",
    "\n",
    "sns.set_theme()"
   ]
  },
  {
   "cell_type": "code",
   "execution_count": 3,
   "metadata": {},
   "outputs": [],
   "source": [
    "# config\n",
    "\n",
    "seed = 0\n",
    "n_variates = 128\n",
    "l = 16\n",
    "n_interp = 2\n",
    "n_samples = 256\n",
    "n_burnin = 256\n",
    "n_samples_gt = 8192\n",
    "bds_t1 = (-.5, 2.5)\n",
    "bds_t2 = (-6, 0)"
   ]
  },
  {
   "cell_type": "code",
   "execution_count": 4,
   "metadata": {},
   "outputs": [],
   "source": [
    "# sampling\n",
    "\n",
    "def gen_suff(x, mu, t1, t2, nug=1e-6):\n",
    "    mu = np.repeat(mu, x.shape[0])\n",
    "    cov = t1 / t2 * np.exp(-np.square(cdist(x, x)) * t2 / x.shape[1])\n",
    "    return mu, cov + nug * np.identity(len(mu)), np.linalg.eigh(cov + nug * np.identity(len(mu)))\n",
    "\n",
    "def eval_logprior(data, param, hyper):\n",
    "    the = param\n",
    "    mean, _, eig_cov = hyper\n",
    "    return np.sum(eval_norm_prec(the[np.newaxis], mean, eig_cov[1], 1 / eig_cov[0][np.newaxis]))\n",
    "\n",
    "def cond_sampler(data, hyper, rng):\n",
    "    y, = data\n",
    "    mean, _, eig_cov = hyper\n",
    "    return logitgp.sample_posterior(y, mean, eig_cov, rng)\n",
    "\n",
    "def est_emus(lams, lame, y, x, mu, rng, n_samples, n_burnin):\n",
    "    suffs = [gen_suff(x, mu, *w_) for w_ in lams]\n",
    "    suffe = [gen_suff(x, mu, *w_) for w_ in lame]\n",
    "    return infemus.est_mlik(suffs, suffe, (y,), cond_sampler, eval_logprior, rng, n_samples, n_burnin)"
   ]
  },
  {
   "cell_type": "code",
   "execution_count": 5,
   "metadata": {},
   "outputs": [],
   "source": [
    "# fetch dataset \n",
    "heart_disease = fetch_ucirepo(id=45)\n",
    "\n",
    "# data (as pandas dataframes) \n",
    "x = heart_disease.data.features.loc[~heart_disease.data.features.isna().any(axis=1)].values[:100]\n",
    "y = (heart_disease.data.targets.loc[~heart_disease.data.features.isna().any(axis=1), 'num'].values > 0)[:100]"
   ]
  },
  {
   "cell_type": "code",
   "execution_count": 6,
   "metadata": {},
   "outputs": [],
   "source": [
    "x_std = x\n",
    "x_std = (x_std - np.mean(x_std, 0)) / np.std(x_std, 0)"
   ]
  },
  {
   "cell_type": "code",
   "execution_count": 7,
   "metadata": {},
   "outputs": [],
   "source": [
    "# generate grid\n",
    "\n",
    "lams_t1, lams_t2 = (np.exp(np.linspace(*bds, l + 1)) for bds in (bds_t1, bds_t2))\n",
    "lame_t1, lame_t2 = (np.exp(np.linspace(*bds, l * n_interp + 1)) for bds in (bds_t1, bds_t2))\n",
    "\n",
    "lams = np.array(list(product(lams_t1, lams_t2)))\n",
    "lame = np.array(list(product(lame_t1, lame_t2)))\n",
    "\n",
    "t1_rec, t2_rec = np.meshgrid(lame_t1, lame_t2)"
   ]
  },
  {
   "cell_type": "code",
   "execution_count": 8,
   "metadata": {},
   "outputs": [],
   "source": [
    "# estimate sampling distribution\n",
    "\n",
    "rng = np.random.default_rng(seed)\n",
    "u_est = np.array([est_emus(lams, lame, y, x_std, np.zeros_like(x.shape[1]), rng, n_samples, n_burnin) for _ in range(n_variates)])"
   ]
  },
  {
   "cell_type": "code",
   "execution_count": null,
   "metadata": {},
   "outputs": [],
   "source": [
    "# draw high-precision variate and typical variate\n",
    "\n",
    "rng = np.random.default_rng(seed)\n",
    "\n",
    "u = est_emus(lams, lame, y, x_std, np.zeros_like(x.shape[1]), rng, n_samples_gt, n_burnin)\n",
    "u_rec = np.reshape(u, 2 * (int(np.sqrt(len(u))),)).T\n",
    "\n",
    "u_est_rec = np.reshape(u_est[0], 2 * (int(np.sqrt(len(u))),)).T\n",
    "\n",
    "fig, (ax1, ax2) = plt.subplots(1, 2, figsize=(6, 3), sharex=True, sharey=True)\n",
    "\n",
    "ax1.pcolormesh(t1_rec, t2_rec, u_rec, cmap='magma')\n",
    "ax1.set_xscale('log', base=2)\n",
    "ax1.set_yscale('log', base=2)\n",
    "ax1.set_xlabel(r'$\\tau_{1}$')\n",
    "ax1.set_ylabel(r'$\\tau_{2}$')\n",
    "\n",
    "ax2.pcolormesh(t1_rec, t2_rec, u_est_rec, cmap='magma')\n",
    "ax2.set_xscale('log', base=2)\n",
    "ax2.set_yscale('log', base=2)\n",
    "ax2.set_xlabel(r'$\\tau_{1}$')"
   ]
  },
  {
   "cell_type": "code",
   "execution_count": null,
   "metadata": {},
   "outputs": [],
   "source": [
    "# profile error plots [fig 7]\n",
    "\n",
    "fig, (ax1, ax2) = plt.subplots(1, 2, figsize=(8, 3), sharex='col', sharey=True)\n",
    "\n",
    "ax1.plot(lame_t1, np.max(u_rec, 0), color='black')\n",
    "u_est_prof_t1 = [np.max(np.reshape(u_, 2 * (int(np.sqrt(len(u_))),)), 1) for u_ in u_est]\n",
    "ax1.fill_between(lame_t1, *np.percentile(u_est_prof_t1, [12.5, 87.5], 0), alpha=.5)\n",
    "ax1.set_xlabel(r'$\\tau_{1}$')\n",
    "ax1.set_xscale('log', base=2)\n",
    "ax1.set_yticklabels([])\n",
    "\n",
    "ax2.plot(lame_t2, np.max(u_rec, 1), color='black')\n",
    "u_est_prof_t2 = [np.max(np.reshape(u_, 2 * (int(np.sqrt(len(u_))),)), 0) for u_ in u_est]\n",
    "ax2.fill_between(lame_t2, *np.percentile(u_est_prof_t2, [12.5, 87.5], 0), alpha=.5)\n",
    "ax2.set_xlabel(r'$\\tau_{2}$')\n",
    "ax2.set_xscale('log', base=2)"
   ]
  }
 ],
 "metadata": {
  "kernelspec": {
   "display_name": "infemus-paper-o_hx9urg-py3.11",
   "language": "python",
   "name": "python3"
  },
  "language_info": {
   "codemirror_mode": {
    "name": "ipython",
    "version": 3
   },
   "file_extension": ".py",
   "mimetype": "text/x-python",
   "name": "python",
   "nbconvert_exporter": "python",
   "pygments_lexer": "ipython3",
   "version": "3.11.8"
  }
 },
 "nbformat": 4,
 "nbformat_minor": 4
}
