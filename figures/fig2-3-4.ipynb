{
 "cells": [
  {
   "cell_type": "code",
   "execution_count": 2,
   "metadata": {},
   "outputs": [],
   "source": [
    "# dependencies\n",
    "\n",
    "from itertools import product\n",
    "\n",
    "import numpy as np\n",
    "import matplotlib.pyplot as plt\n",
    "import seaborn as sns\n",
    "from scipy.interpolate import griddata\n",
    "from scipy.spatial.distance import cdist\n",
    "from scipy.special import logsumexp\n",
    "\n",
    "from infemus import infemus, griddy\n",
    "from infemus.models import lgp_iid\n",
    "from infemus.tools.metropolis_mv import eval_norm_prec\n",
    "\n",
    "sns.set_theme()"
   ]
  },
  {
   "cell_type": "code",
   "execution_count": 2,
   "metadata": {},
   "outputs": [],
   "source": [
    "# config\n",
    "\n",
    "seed = 2\n",
    "\n",
    "# algo settings\n",
    "\n",
    "n_variates = 128\n",
    "n_interp = 2\n",
    "n_samples = 64\n",
    "n_burnin = 64\n",
    "bds_t1 = (0, 3.5)\n",
    "bds_t2 = (-2, 2)\n",
    "l = 16\n",
    "\n",
    "# DGP settings\n",
    "\n",
    "n_obs = 32\n",
    "n_dim = 1\n",
    "mu = 0\n",
    "t1 = 1\n",
    "t2 = 1\n",
    "phi = .25\n",
    "sd_out = 1.5"
   ]
  },
  {
   "cell_type": "code",
   "execution_count": 3,
   "metadata": {},
   "outputs": [],
   "source": [
    "# DGP\n",
    "\n",
    "def gen_inputs(n_obs, n_dim, mu, t1, t2, phi, sd_out, rng):\n",
    "    x = rng.standard_normal(size=(n_obs, n_dim))\n",
    "    mean, cov, eig_cov = gen_suff(x, mu, t1, t2)\n",
    "    the = rng.multivariate_normal(mean, cov)\n",
    "    y = rng.normal(the, np.where(np.sum(np.abs(x), 1) > sd_out, 10 * phi, phi))\n",
    "    xc = np.linspace(-2.5, 2.5, int(1e3))[:, np.newaxis]\n",
    "    cov1 = t1 / t2 * np.exp(-np.square(cdist(xc, xc)) * t2 / x.shape[1])\n",
    "    cov12 = t1 / t2 * np.exp(-np.square(cdist(xc, x)) * t2 / x.shape[1])\n",
    "    meanc = cov12 @ np.linalg.inv(cov) @ the\n",
    "    covc = cov1 - cov12 @ np.linalg.inv(cov) @ cov12.T\n",
    "    thec = rng.multivariate_normal(meanc, covc)\n",
    "    return (x, y, the), (xc, thec), (mean, eig_cov, phi)\n",
    "\n",
    "def gen_suff(x, mu, t1, t2, nug=1e-6):\n",
    "    mu = np.repeat(mu, x.shape[0])\n",
    "    cov = t1 / t2 * np.exp(-np.square(cdist(x, x)) * t2 / x.shape[1])\n",
    "    return mu, cov + nug * np.identity(len(mu)), np.linalg.eigh(cov + nug * np.identity(len(mu)))\n",
    " \n",
    "def eval_logmargin(y, mean, cov, eig_cov, phi):\n",
    "    l_mcov = eig_cov[0] + phi ** 2\n",
    "    return np.sum(eval_norm_prec(y[np.newaxis], mean, eig_cov[1], 1 / l_mcov[np.newaxis]))"
   ]
  },
  {
   "cell_type": "code",
   "execution_count": 10,
   "metadata": {},
   "outputs": [],
   "source": [
    "# sampling\n",
    "\n",
    "def eval_logprior(data, param, hyper):\n",
    "    the = param\n",
    "    mean, _, eig_cov = hyper\n",
    "    return np.sum(eval_norm_prec(the[np.newaxis], mean, eig_cov[1], 1 / eig_cov[0][np.newaxis]))\n",
    "\n",
    "def cond_sampler(data, hyper, rng):\n",
    "    y, phi = data\n",
    "    mean, cov, _ = hyper\n",
    "    return lgp_iid.sample_posterior(y, mean, cov, phi, rng)\n",
    "\n",
    "def est_emus(lams, lame, y, x, mu, phi, rng, n_samples, n_burnin):\n",
    "    suffs = [gen_suff(x, mu, *w_) for w_ in lams]\n",
    "    suffe = [gen_suff(x, mu, *w_) for w_ in lame]\n",
    "    return infemus.est_mlik(suffs, suffe, (y, phi), cond_sampler, eval_logprior, rng, n_samples, n_burnin)\n",
    "\n",
    "def est_griddy(lams, lame, y, x, mu, phi, rng, n_samples, n_burnin):\n",
    "    suffs = [gen_suff(x, mu, *w_) for w_ in lams]\n",
    "    us = griddy.est_mlik(suffs, (y, phi), cond_sampler, eval_logprior, rng, n_samples, n_burnin)\n",
    "    ue = griddata(lams, us, lame, method='nearest')\n",
    "    return ue / np.sum(ue)"
   ]
  },
  {
   "cell_type": "code",
   "execution_count": 5,
   "metadata": {},
   "outputs": [],
   "source": [
    "# generate input data\n",
    "\n",
    "rng = np.random.default_rng(seed)\n",
    "(x, y, _), (xc, thec), _ = gen_inputs(n_obs, n_dim, mu, t1, t2, phi / 2, sd_out, rng)"
   ]
  },
  {
   "cell_type": "code",
   "execution_count": null,
   "metadata": {},
   "outputs": [],
   "source": [
    "# draw input data [fig 2]\n",
    "\n",
    "plt.figure(figsize=(4, 3))\n",
    "plt.scatter(x, y)\n",
    "plt.plot(xc.flatten(), thec, color='black')\n",
    "plt.xlabel('$x$')\n",
    "plt.ylabel('$y$')"
   ]
  },
  {
   "cell_type": "code",
   "execution_count": 7,
   "metadata": {},
   "outputs": [],
   "source": [
    "# generate grid\n",
    "\n",
    "lams_t1, lams_t2 = (np.exp(np.linspace(*bds, l + 1)) for bds in (bds_t1, bds_t2))\n",
    "lame_t1, lame_t2 = (np.exp(np.linspace(*bds, l * n_interp + 1)) for bds in (bds_t1, bds_t2))\n",
    "\n",
    "lams = np.array(list(product(lams_t1, lams_t2)))\n",
    "lame = np.array(list(product(lame_t1, lame_t2)))\n",
    "\n",
    "t1_rec, t2_rec = np.meshgrid(lame_t1, lame_t2)"
   ]
  },
  {
   "cell_type": "code",
   "execution_count": 8,
   "metadata": {},
   "outputs": [],
   "source": [
    "# evaluate ground truth\n",
    "\n",
    "log_u = [eval_logmargin(y, *suffe_, phi) for suffe_ in [gen_suff(x, mu, *w_) for w_ in lame]]\n",
    "u = np.exp(np.array(log_u) - logsumexp(log_u))\n",
    "u_rec = np.reshape(u, 2 * (int(np.sqrt(len(u))),)).T"
   ]
  },
  {
   "cell_type": "code",
   "execution_count": null,
   "metadata": {},
   "outputs": [],
   "source": [
    "# estimate sampling distribution of respective methods\n",
    "\n",
    "u_emus = np.array([est_emus(lams, lame, y, x, mu, phi, rng, n_samples, 0) for _ in range(n_variates)])\n",
    "u_griddy = np.array([est_griddy(lams, lame, y, x, mu, phi, rng, n_samples, n_burnin) for _ in range(n_variates)])"
   ]
  },
  {
   "cell_type": "code",
   "execution_count": null,
   "metadata": {},
   "outputs": [],
   "source": [
    "# draw typical variates [fig 3]\n",
    "\n",
    "u_rec_emus = np.reshape(u_emus[0], 2 * (int(np.sqrt(len(u_emus[0]))),)).T\n",
    "u_rec_griddy = np.reshape(u_griddy[0], 2 * (int(np.sqrt(len(u_griddy[0]))),)).T\n",
    "\n",
    "fig, (ax1, ax2) = plt.subplots(1, 2, figsize=(6, 3), sharex=True, sharey=True)\n",
    "\n",
    "ax1.pcolormesh(t1_rec, t2_rec, u_rec_emus, cmap='magma')\n",
    "ax1.set_xscale('log', base=2)\n",
    "ax1.set_yscale('log', base=2)\n",
    "ax1.set_xlabel(r'$\\tau_{1}$')\n",
    "ax1.set_ylabel(r'$\\tau_{2}$')\n",
    "\n",
    "ax2.pcolormesh(t1_rec, t2_rec, u_rec_griddy, cmap='magma')\n",
    "ax2.set_xscale('log', base=2)\n",
    "ax2.set_yscale('log', base=2)\n",
    "ax2.set_xlabel(r'$\\tau_{1}$')"
   ]
  },
  {
   "cell_type": "code",
   "execution_count": null,
   "metadata": {},
   "outputs": [],
   "source": [
    "# draw profile sampling distribution [fig 4]\n",
    "\n",
    "fig, ((ax1, ax2), (ax3, ax4)) = plt.subplots(2, 2, figsize=(5, 3), sharex='col', sharey=True)\n",
    "\n",
    "ax1.plot(lame_t1, np.max(u_rec, 0), color='black')\n",
    "u_emus_prof_t1 = [np.max(np.reshape(u_, 2 * (int(np.sqrt(len(u_))),)), 1) for u_ in u_emus]\n",
    "ax1.fill_between(lame_t1, *np.percentile(u_emus_prof_t1, [12.5, 87.5], 0), color=sns.color_palette()[0], alpha=.5)\n",
    "ax1.set_xscale('log', base=2)\n",
    "ax1.set_yticklabels([])\n",
    "\n",
    "ax2.plot(lame_t2, np.max(u_rec, 1), color='black')\n",
    "u_emus_prof_t2 = [np.max(np.reshape(u_, 2 * (int(np.sqrt(len(u_))),)), 0) for u_ in u_emus]\n",
    "ax2.fill_between(lame_t2, *np.percentile(u_emus_prof_t2, [12.5, 87.5], 0), color=sns.color_palette()[0], alpha=.5)\n",
    "ax2.set_xscale('log', base=2)\n",
    "ax2.set_yticklabels([])\n",
    "\n",
    "ax3.plot(lame_t1, np.max(u_rec, 0), color='black')\n",
    "u_griddy_prof_t1 = [np.max(np.reshape(u_, 2 * (int(np.sqrt(len(u_))),)), 1) for u_ in u_griddy]\n",
    "ax3.fill_between(lame_t1, *np.percentile(u_griddy_prof_t1, [12.5, 87.5], 0), step='mid', color=sns.color_palette()[1], alpha=.5)\n",
    "ax3.set_xlabel(r'$\\tau_{1}$')\n",
    "ax3.set_xscale('log', base=2)\n",
    "\n",
    "ax4.plot(lame_t2, np.max(u_rec, 1), color='black')\n",
    "u_griddy_prof_t2 = [np.max(np.reshape(u_, 2 * (int(np.sqrt(len(u_))),)), 0) for u_ in u_griddy]\n",
    "ax4.fill_between(lame_t2, *np.percentile(u_griddy_prof_t2, [12.5, 87.5], 0), step='mid', color=sns.color_palette()[1], alpha=.5)\n",
    "ax4.set_xlabel(r'$\\tau_{2}$')\n",
    "ax4.set_xscale('log', base=2)"
   ]
  }
 ],
 "metadata": {
  "kernelspec": {
   "display_name": "infemus-paper-o_hx9urg-py3.11",
   "language": "python",
   "name": "python3"
  },
  "language_info": {
   "codemirror_mode": {
    "name": "ipython",
    "version": 3
   },
   "file_extension": ".py",
   "mimetype": "text/x-python",
   "name": "python",
   "nbconvert_exporter": "python",
   "pygments_lexer": "ipython3",
   "version": "3.11.8"
  }
 },
 "nbformat": 4,
 "nbformat_minor": 2
}
