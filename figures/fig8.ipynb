{
 "cells": [
  {
   "cell_type": "code",
   "execution_count": 7,
   "metadata": {},
   "outputs": [],
   "source": [
    "# dependencies\n",
    "\n",
    "from itertools import product\n",
    "\n",
    "import numpy as np\n",
    "import matplotlib.pyplot as plt\n",
    "import seaborn as sns\n",
    "\n",
    "from scipy.special import expit\n",
    "from scipy.stats import multivariate_normal\n",
    "\n",
    "from infemus import infemus\n",
    "from infemus.models import logitx\n",
    "\n",
    "sns.set_theme()"
   ]
  },
  {
   "cell_type": "code",
   "execution_count": null,
   "metadata": {},
   "outputs": [],
   "source": [
    "# config\n",
    "\n",
    "n_variates = 128\n",
    "n_samples = 1\n",
    "n_burnin = 8\n",
    "l = 16\n",
    "seed = 1\n",
    "tau0 = 1"
   ]
  },
  {
   "cell_type": "code",
   "execution_count": 8,
   "metadata": {},
   "outputs": [],
   "source": [
    "# DGP\n",
    "\n",
    "def sample_coef_fixture(j, tau, rng):\n",
    "    alp = [rng.normal(0, 1 / np.sqrt(tau_), j_) for tau_, j_ in zip(tau, j)]\n",
    "    return [alp_ - np.mean(alp_) for alp_ in alp]\n",
    "\n",
    "def sample_randfx_fixture(i, df_tau, scale_tau, rng):\n",
    "    tau = scale_tau * rng.chisquare(df_tau, len(i))\n",
    "    alp = sample_coef_fixture(i, tau, rng)\n",
    "    return alp, tau\n",
    "\n",
    "def sample_mar_design(j, p_miss, rng):\n",
    "    i = np.stack(np.meshgrid(*[np.arange(j_) for j_ in j])).T.reshape(-1, 2)\n",
    "    i = i[rng.uniform(size=i.shape[0]) > p_miss]\n",
    "    rng.shuffle(i, 0)\n",
    "    return i\n",
    "\n",
    "def sample_mar_fixture(j, df_tau=2, scale_tau=1, p_miss=.9, rng=np.random.default_rng()):\n",
    "    alp0 = 0\n",
    "    alp, tau = sample_randfx_fixture(j, df_tau, scale_tau, rng)\n",
    "    i = sample_mar_design(j, p_miss, rng)\n",
    "    eta = alp0 + np.sum([alp_[j_] for alp_, j_ in zip(alp, i.T)], 0)\n",
    "    return (eta, i), (alp0, alp, tau)\n",
    "\n",
    "def sample_balanced_design(j, rng):\n",
    "    n = 1\n",
    "    for j_ in j:\n",
    "        n = np.lcm(n, j_)\n",
    "    i = np.array([np.repeat(np.arange(j_), n / j_) for j_ in j]).T\n",
    "    rng.shuffle(i, 0)\n",
    "    return i\n",
    "\n",
    "def sample_balanced_fixture(j, alp0=0, df_tau=2, scale_tau=1, rng=np.random.default_rng()):\n",
    "    alp, tau = sample_randfx_fixture(j, df_tau, scale_tau, rng)\n",
    "    i = sample_balanced_design(j, rng)\n",
    "    eta = alp0 + np.sum([alp_[j_] for alp_, j_ in zip(alp, i.T)], 0)\n",
    "    return (eta, i), (alp0, alp, tau)"
   ]
  },
  {
   "cell_type": "code",
   "execution_count": 9,
   "metadata": {},
   "outputs": [],
   "source": [
    "# sampling\n",
    "\n",
    "def eval_logmargin(y1, n, j, i, tau0, tau, lam):\n",
    "    s22 = np.diag(1 / (lam * n)) + 1 / tau0\n",
    "    for k_ in range(len(j)):\n",
    "        for j_ in range(j[k_]):\n",
    "            s22[np.ix_(i[:, k_] == j_, i[:, k_] == j_)] += 1 / tau[k_]\n",
    "    return multivariate_normal.logpdf(y1 / n, np.zeros_like(y1), s22)\n",
    "\n",
    "def eval_logprior(data, params, hyper):\n",
    "    tau0 = data[-1]\n",
    "    alp0, alp = params\n",
    "    tau = hyper\n",
    "    log_prior = np.sum([(len(alp_) * np.log(tau_ / (2 * np.pi)) - tau_ * np.sum(np.square(alp_))) / 2 for alp_, tau_ in zip([[alp0]] + alp, [tau0] + list(tau))])\n",
    "    log_hyperprior = -np.sum(tau + np.log(tau)) / 2\n",
    "    return log_prior + log_hyperprior\n",
    "\n",
    "def cond_sampler(data, hyper, rng):\n",
    "    y, n, j, i, tau0 = data\n",
    "    return logitx.sample_posterior(y, n, j, i, tau0, hyper, True, rng)\n",
    "\n",
    "def est_emus(lams, lame, y, n, j, i, tau0, rng, n_samples, n_burnin):\n",
    "    return infemus.est_mlik(lams, lame, (y, n, j, i, tau0), cond_sampler, eval_logprior, rng, n_samples, n_burnin)\n",
    "\n",
    "def est_rmse(l, d, tau0, rng, n_variates, n_samples, n_burnin):\n",
    "    bds_t1 = (-1, 1)\n",
    "    bds_t2 = (-1, 1)\n",
    "    data = sample_mar_fixture(np.repeat(d, 2), 1e64, 1e-64, .5, rng)[0]\n",
    "    y1, _, n, j, i = (expit(data[0]) > rng.uniform(size=len(data[0])), None, np.ones_like(data[0]), np.repeat(d, 2), data[1])\n",
    "    lams_t1, lams_t2 = (np.exp(np.linspace(*bds, l + 1) * 8 / np.sqrt(d)) for bds in (bds_t1, bds_t2))\n",
    "    lame_t1, lame_t2 = (np.exp(np.linspace(*bds, l * 2 + 1) * 8 / np.sqrt(d)) for bds in (bds_t1, bds_t2))\n",
    "    lams = np.array(list(product(lams_t1, lams_t2)))\n",
    "    lame = np.array(list(product(lame_t1, lame_t2)))\n",
    "    u_est = np.array([est_emus(lams, lame, y1, n, j, i, tau0, rng, n_samples, n_burnin) for _ in range(n_variates)])\n",
    "    u_gt = est_emus(lams, lame, y1, n, j, i, tau0, rng, n_samples * n_variates, n_burnin)\n",
    "    return (lame, u_gt, u_est)"
   ]
  },
  {
   "cell_type": "code",
   "execution_count": 26,
   "metadata": {},
   "outputs": [],
   "source": [
    "# simulation \n",
    "\n",
    "rng = np.random.default_rng(seed)\n",
    "d = 10 ** np.arange(1, 4)\n",
    "lam, u_gt, u_est = zip(*[est_rmse(l, d_, tau0, rng, n_variates, n_samples, n_burnin) for d_ in d])"
   ]
  },
  {
   "cell_type": "code",
   "execution_count": null,
   "metadata": {},
   "outputs": [],
   "source": [
    "error = [np.mean(np.linalg.norm(u_emus_ - u_, 2, 1)) for u_emus_, u_ in zip(u_est, u_gt)]\n",
    "\n",
    "plt.figure(figsize=(4, 3))\n",
    "plt.plot(d, error, marker='o')\n",
    "plt.xscale('log', base=10)\n",
    "plt.xlabel(r'$d$')\n",
    "plt.ylabel('error')"
   ]
  },
  {
   "cell_type": "code",
   "execution_count": null,
   "metadata": {},
   "outputs": [],
   "source": [
    "plt.figure(figsize=(4, 3))\n",
    "for lam_, u_, col in zip(lam, u_gt, sns.color_palette('flare', 3)):\n",
    "    x = np.array(np.reshape([lam__[0] for lam__ in lam_], 2 * (int(np.sqrt(len(u_gt[0]))),)).T[0])\n",
    "    zx = np.sum(np.reshape(u_, 2 * (int(np.sqrt(len(u_))),)).T, 1)\n",
    "    dens = np.log(x)[-1] - np.log(x)[0]\n",
    "    plt.fill_between(x, zx / dens, alpha=.5, color=col)\n",
    "plt.xscale('log')\n",
    "plt.xlabel(r'$d$')\n",
    "plt.ylabel('density')"
   ]
  }
 ],
 "metadata": {
  "kernelspec": {
   "display_name": "infemus-paper-o_hx9urg-py3.11",
   "language": "python",
   "name": "python3"
  },
  "language_info": {
   "codemirror_mode": {
    "name": "ipython",
    "version": 3
   },
   "file_extension": ".py",
   "mimetype": "text/x-python",
   "name": "python",
   "nbconvert_exporter": "python",
   "pygments_lexer": "ipython3",
   "version": "3.11.8"
  }
 },
 "nbformat": 4,
 "nbformat_minor": 1
}
