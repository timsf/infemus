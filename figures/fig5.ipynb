{
 "cells": [
  {
   "cell_type": "code",
   "execution_count": 1,
   "metadata": {},
   "outputs": [],
   "source": [
    "# dependencies\n",
    "\n",
    "from itertools import product\n",
    "\n",
    "import numpy as np\n",
    "import matplotlib.pyplot as plt\n",
    "import seaborn as sns\n",
    "from scipy.spatial.distance import cdist\n",
    "from scipy.special import logsumexp\n",
    "\n",
    "from infemus import infemus\n",
    "from infemus.models import lgp_iid\n",
    "from infemus.tools.metropolis_mv import eval_norm_prec\n",
    "\n",
    "sns.set_theme()"
   ]
  },
  {
   "cell_type": "code",
   "execution_count": 2,
   "metadata": {},
   "outputs": [],
   "source": [
    "# config\n",
    "\n",
    "seed = 2\n",
    "\n",
    "# algo settings\n",
    "\n",
    "n_variates = 128\n",
    "bds_t1 = (0, 3.5)\n",
    "bds_t2 = (-2, 2)\n",
    "m = 32\n",
    "hires_regime = [(16, 1), (16, 4), (16, 16), (16, 64)]\n",
    "infill_regime = [(4, 16), (8, 16), (16, 16), (32, 16)]\n",
    "lores_regime = [(4, 16), (4, 64), (4, 256), (4, 1024), (4, 4096)]\n",
    "\n",
    "# DGP settings\n",
    "\n",
    "n_obs = 32\n",
    "n_dim = 1\n",
    "mu = 0\n",
    "t1 = 1\n",
    "t2 = 1\n",
    "phi = .25\n",
    "sd_out = 1.5"
   ]
  },
  {
   "cell_type": "code",
   "execution_count": 3,
   "metadata": {},
   "outputs": [],
   "source": [
    "# DGP\n",
    "\n",
    "def gen_inputs(n_obs, n_dim, mu, t1, t2, phi, sd_out, rng):\n",
    "    x = rng.standard_normal(size=(n_obs, n_dim))\n",
    "    mean, cov, eig_cov = gen_suff(x, mu, t1, t2)\n",
    "    the = rng.multivariate_normal(mean, cov)\n",
    "    y = rng.normal(the, np.where(np.sum(np.abs(x), 1) > sd_out, 10 * phi, phi))\n",
    "    xc = np.linspace(-2.5, 2.5, int(1e3))[:, np.newaxis]\n",
    "    cov1 = t1 / t2 * np.exp(-np.square(cdist(xc, xc)) * t2 / x.shape[1])\n",
    "    cov12 = t1 / t2 * np.exp(-np.square(cdist(xc, x)) * t2 / x.shape[1])\n",
    "    meanc = cov12 @ np.linalg.inv(cov) @ the\n",
    "    covc = cov1 - cov12 @ np.linalg.inv(cov) @ cov12.T\n",
    "    thec = rng.multivariate_normal(meanc, covc)\n",
    "    return (x, y, the), (xc, thec), (mean, eig_cov, phi)\n",
    "\n",
    "def gen_suff(x, mu, t1, t2, cond=1e-6):\n",
    "    mu = np.repeat(mu, x.shape[0])\n",
    "    cov = t1 / t2 * np.exp(-np.square(cdist(x, x)) * t2 / x.shape[1])\n",
    "    return mu, cov + cond * np.identity(len(mu)), np.linalg.eigh(cov + cond * np.identity(len(mu)))\n",
    " \n",
    "def eval_logmargin(y, mean, cov, eig_cov, phi):\n",
    "    l_mcov = eig_cov[0] + phi ** 2\n",
    "    return np.sum(eval_norm_prec(y[np.newaxis], mean, eig_cov[1], 1 / l_mcov[np.newaxis]))"
   ]
  },
  {
   "cell_type": "code",
   "execution_count": 4,
   "metadata": {},
   "outputs": [],
   "source": [
    "# sampling\n",
    "\n",
    "def eval_logprior(data, param, hyper):\n",
    "    the = param\n",
    "    mean, _, eig_cov = hyper\n",
    "    return np.sum(eval_norm_prec(the[np.newaxis], mean, eig_cov[1], 1 / eig_cov[0][np.newaxis]))\n",
    "\n",
    "def cond_sampler(data, hyper, rng):\n",
    "    y, phi = data\n",
    "    mean, cov, _ = hyper\n",
    "    return lgp_iid.sample_posterior(y, mean, cov, phi, rng)\n",
    "\n",
    "def est_emus(lams, lame, y, x, mu, phi, rng, n_samples, n_burnin):\n",
    "    suffs = [gen_suff(x, mu, *w_) for w_ in lams]\n",
    "    suffe = [gen_suff(x, mu, *w_) for w_ in lame]\n",
    "    return infemus.est_mlik(suffs, suffe, (y, phi), cond_sampler, eval_logprior, rng, n_samples, n_burnin)\n",
    "\n",
    "def est_emus_flexgrid(n_variates, l, m, n, bds_t1, bds_t2, y, x, mu, phi, rng):\n",
    "    lams_t1, lams_t2 = (np.exp(np.linspace(*bds, l + 1)) for bds in (bds_t1, bds_t2))\n",
    "    lame_t1, lame_t2 = (np.exp(np.linspace(*bds, m + 1)) for bds in (bds_t1, bds_t2))\n",
    "    lams = np.array(list(product(lams_t1, lams_t2)))\n",
    "    lame = np.array(list(product(lame_t1, lame_t2)))\n",
    "    return np.array([est_emus(lams, lame, y, x, mu, phi, rng, n, 0) for _ in range(n_variates)])"
   ]
  },
  {
   "cell_type": "code",
   "execution_count": null,
   "metadata": {},
   "outputs": [],
   "source": [
    "# generate input data\n",
    "\n",
    "rng = np.random.default_rng(seed)\n",
    "(x, y, _), (xc, thec), _ = gen_inputs(n_obs, n_dim, mu, t1, t2, phi / 2, sd_out, rng)"
   ]
  },
  {
   "cell_type": "code",
   "execution_count": 17,
   "metadata": {},
   "outputs": [],
   "source": [
    "# evaluate ground truth\n",
    "\n",
    "lame_t1, lame_t2 = (np.exp(np.linspace(*bds, m + 1)) for bds in (bds_t1, bds_t2))\n",
    "lame = np.array(list(product(lame_t1, lame_t2)))\n",
    "log_u = [eval_logmargin(y, *suffe_, phi) for suffe_ in [gen_suff(x, mu, *w_) for w_ in lame]]\n",
    "u = np.exp(np.array(log_u) - logsumexp(log_u))\n",
    "u_rec = np.reshape(u, 2 * (int(np.sqrt(len(u))),)).T"
   ]
  },
  {
   "cell_type": "code",
   "execution_count": 18,
   "metadata": {},
   "outputs": [],
   "source": [
    "# sampling distribution of respective methods\n",
    "\n",
    "u_variates_hires = [est_emus_flexgrid(n_variates, l_, m, n_, bds_t1, bds_t2, y, x, mu, phi, rng) for l_, n_ in hires_regime]\n",
    "u_variates_lores = [est_emus_flexgrid(n_variates, l_, m, n_, bds_t1, bds_t2, y, x, mu, phi, rng) for l_, n_ in lores_regime]\n",
    "u_variates_infill = [est_emus_flexgrid(n_variates, l_, m, n_, bds_t1, bds_t2, y, x, mu, phi, rng) for l_, n_ in infill_regime]"
   ]
  },
  {
   "cell_type": "code",
   "execution_count": null,
   "metadata": {},
   "outputs": [],
   "source": [
    "# draw scaling curves [fig 5]\n",
    "\n",
    "err_hires = [np.mean(np.linalg.norm(u_ - u, axis=1)) for u_ in u_variates_hires]\n",
    "err_lores = [np.mean(np.linalg.norm(u_ - u, axis=1)) for u_ in u_variates_lores]\n",
    "err_infill = [np.mean(np.linalg.norm(u_ - u, axis=1)) for u_ in u_variates_infill]\n",
    "n_hires = [a ** 2 * b for a, b in hires_regime]\n",
    "n_lores = [a ** 2 * b for a, b in lores_regime]\n",
    "n_infill = [a ** 2 * b for a, b in infill_regime]\n",
    "\n",
    "plt.figure(figsize=(4, 3))\n",
    "plt.axline((n_infill[-1] / 4, err_infill[-1] * 2), (n_infill[-1], err_infill[-1]), color='gray', linestyle='dashed')\n",
    "plt.plot(n_hires, err_hires, marker='o')\n",
    "plt.plot(n_lores, err_lores, marker='o')\n",
    "plt.plot(n_infill, err_infill, marker='o')\n",
    "plt.xscale('log', base=2)\n",
    "plt.yscale('log', base=2)"
   ]
  }
 ],
 "metadata": {
  "kernelspec": {
   "display_name": "femus-paper-o_hx9urg-py3.12",
   "language": "python",
   "name": "python3"
  },
  "language_info": {
   "codemirror_mode": {
    "name": "ipython",
    "version": 3
   },
   "file_extension": ".py",
   "mimetype": "text/x-python",
   "name": "python",
   "nbconvert_exporter": "python",
   "pygments_lexer": "ipython3",
   "version": "3.12.2"
  }
 },
 "nbformat": 4,
 "nbformat_minor": 2
}
